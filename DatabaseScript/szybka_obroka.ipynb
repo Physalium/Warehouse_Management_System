{
 "metadata": {
  "language_info": {
   "codemirror_mode": {
    "name": "ipython",
    "version": 3
   },
   "file_extension": ".py",
   "mimetype": "text/x-python",
   "name": "python",
   "nbconvert_exporter": "python",
   "pygments_lexer": "ipython3",
   "version": "3.7.6-final"
  },
  "orig_nbformat": 2,
  "kernelspec": {
   "name": "python_defaultSpec_1600115792762",
   "display_name": "Python 3.7.6 64-bit ('base': conda)"
  }
 },
 "nbformat": 4,
 "nbformat_minor": 2,
 "cells": [
  {
   "cell_type": "code",
   "execution_count": 1,
   "metadata": {},
   "outputs": [],
   "source": [
    "import pandas as pd"
   ]
  },
  {
   "cell_type": "code",
   "execution_count": 2,
   "metadata": {},
   "outputs": [],
   "source": [
    "df = pd.read_csv('dane_magazyny.csv', header = None)"
   ]
  },
  {
   "cell_type": "code",
   "execution_count": 3,
   "metadata": {},
   "outputs": [],
   "source": [
    "df.columns = ['x','y']"
   ]
  },
  {
   "cell_type": "code",
   "execution_count": 4,
   "metadata": {},
   "outputs": [
    {
     "output_type": "execute_result",
     "data": {
      "text/plain": "       x      y\n0  0.664  0.490\n1  0.478  0.774\n2  0.566  0.808\n3  0.758  0.814\n4  0.418  0.192\n5  0.072  0.312\n6  0.848  0.204\n7  0.804  0.640\n8  0.270  0.468",
      "text/html": "<div>\n<style scoped>\n    .dataframe tbody tr th:only-of-type {\n        vertical-align: middle;\n    }\n\n    .dataframe tbody tr th {\n        vertical-align: top;\n    }\n\n    .dataframe thead th {\n        text-align: right;\n    }\n</style>\n<table border=\"1\" class=\"dataframe\">\n  <thead>\n    <tr style=\"text-align: right;\">\n      <th></th>\n      <th>x</th>\n      <th>y</th>\n    </tr>\n  </thead>\n  <tbody>\n    <tr>\n      <th>0</th>\n      <td>0.664</td>\n      <td>0.490</td>\n    </tr>\n    <tr>\n      <th>1</th>\n      <td>0.478</td>\n      <td>0.774</td>\n    </tr>\n    <tr>\n      <th>2</th>\n      <td>0.566</td>\n      <td>0.808</td>\n    </tr>\n    <tr>\n      <th>3</th>\n      <td>0.758</td>\n      <td>0.814</td>\n    </tr>\n    <tr>\n      <th>4</th>\n      <td>0.418</td>\n      <td>0.192</td>\n    </tr>\n    <tr>\n      <th>5</th>\n      <td>0.072</td>\n      <td>0.312</td>\n    </tr>\n    <tr>\n      <th>6</th>\n      <td>0.848</td>\n      <td>0.204</td>\n    </tr>\n    <tr>\n      <th>7</th>\n      <td>0.804</td>\n      <td>0.640</td>\n    </tr>\n    <tr>\n      <th>8</th>\n      <td>0.270</td>\n      <td>0.468</td>\n    </tr>\n  </tbody>\n</table>\n</div>"
     },
     "metadata": {},
     "execution_count": 4
    }
   ],
   "source": [
    "df"
   ]
  },
  {
   "cell_type": "code",
   "execution_count": 6,
   "metadata": {},
   "outputs": [],
   "source": [
    "# INSERT INTO `customers` VALUES (1,'youtoy','Warszawa'),(2,'jewear','Katowice'),(3,'elexcar','Kraków'),(4,'bikio','Rzeszów'),(5,'roomfit','Gdańsk'),(6,'fishon','Szczecin'),(7,'refurbix','Suwałki'),(8,'armsy','Lublin'),(9,'sportelo','Poznań');\n",
    "df['z'] = ['Warszawa', 'Katowice', 'Kraków', 'Rzeszów', 'Gdańsk', 'Szczecin', 'Suwałki', 'Lublin', 'Poznań']"
   ]
  },
  {
   "cell_type": "code",
   "execution_count": 7,
   "metadata": {},
   "outputs": [
    {
     "output_type": "execute_result",
     "data": {
      "text/plain": "       x      y         z\n0  0.664  0.490  Warszawa\n1  0.478  0.774  Katowice\n2  0.566  0.808    Kraków\n3  0.758  0.814   Rzeszów\n4  0.418  0.192    Gdańsk\n5  0.072  0.312  Szczecin\n6  0.848  0.204   Suwałki\n7  0.804  0.640    Lublin\n8  0.270  0.468    Poznań",
      "text/html": "<div>\n<style scoped>\n    .dataframe tbody tr th:only-of-type {\n        vertical-align: middle;\n    }\n\n    .dataframe tbody tr th {\n        vertical-align: top;\n    }\n\n    .dataframe thead th {\n        text-align: right;\n    }\n</style>\n<table border=\"1\" class=\"dataframe\">\n  <thead>\n    <tr style=\"text-align: right;\">\n      <th></th>\n      <th>x</th>\n      <th>y</th>\n      <th>z</th>\n    </tr>\n  </thead>\n  <tbody>\n    <tr>\n      <th>0</th>\n      <td>0.664</td>\n      <td>0.490</td>\n      <td>Warszawa</td>\n    </tr>\n    <tr>\n      <th>1</th>\n      <td>0.478</td>\n      <td>0.774</td>\n      <td>Katowice</td>\n    </tr>\n    <tr>\n      <th>2</th>\n      <td>0.566</td>\n      <td>0.808</td>\n      <td>Kraków</td>\n    </tr>\n    <tr>\n      <th>3</th>\n      <td>0.758</td>\n      <td>0.814</td>\n      <td>Rzeszów</td>\n    </tr>\n    <tr>\n      <th>4</th>\n      <td>0.418</td>\n      <td>0.192</td>\n      <td>Gdańsk</td>\n    </tr>\n    <tr>\n      <th>5</th>\n      <td>0.072</td>\n      <td>0.312</td>\n      <td>Szczecin</td>\n    </tr>\n    <tr>\n      <th>6</th>\n      <td>0.848</td>\n      <td>0.204</td>\n      <td>Suwałki</td>\n    </tr>\n    <tr>\n      <th>7</th>\n      <td>0.804</td>\n      <td>0.640</td>\n      <td>Lublin</td>\n    </tr>\n    <tr>\n      <th>8</th>\n      <td>0.270</td>\n      <td>0.468</td>\n      <td>Poznań</td>\n    </tr>\n  </tbody>\n</table>\n</div>"
     },
     "metadata": {},
     "execution_count": 7
    }
   ],
   "source": [
    "df"
   ]
  },
  {
   "cell_type": "code",
   "execution_count": 8,
   "metadata": {
    "tags": []
   },
   "outputs": [
    {
     "output_type": "stream",
     "name": "stdout",
     "text": "(xPos: 0.664, yPos: 0.49, name: 'Warszawa'),\n(xPos: 0.478, yPos: 0.774, name: 'Katowice'),\n(xPos: 0.5660000000000001, yPos: 0.8079999999999999, name: 'Kraków'),\n(xPos: 0.758, yPos: 0.8140000000000001, name: 'Rzeszów'),\n(xPos: 0.418, yPos: 0.192, name: 'Gdańsk'),\n(xPos: 0.07200000000000001, yPos: 0.312, name: 'Szczecin'),\n(xPos: 0.848, yPos: 0.204, name: 'Suwałki'),\n(xPos: 0.804, yPos: 0.64, name: 'Lublin'),\n(xPos: 0.27, yPos: 0.46799999999999997, name: 'Poznań'),\n"
    }
   ],
   "source": [
    "# (xPos: 0.38, yPos: 0.69, name: \"Opole\")\n",
    "for i, row in df.iterrows():\n",
    "    print(f\"(xPos: {row.x}, yPos: {row.y}, name: '{row.z}'),\")"
   ]
  },
  {
   "cell_type": "code",
   "execution_count": null,
   "metadata": {},
   "outputs": [],
   "source": []
  }
 ]
}